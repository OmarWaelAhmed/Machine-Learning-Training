{
  "nbformat": 4,
  "nbformat_minor": 0,
  "metadata": {
    "colab": {
      "name": "Assignment_5.ipynb",
      "provenance": [],
      "include_colab_link": true
    },
    "kernelspec": {
      "name": "python3",
      "display_name": "Python 3"
    },
    "language_info": {
      "name": "python"
    }
  },
  "cells": [
    {
      "cell_type": "markdown",
      "metadata": {
        "id": "view-in-github",
        "colab_type": "text"
      },
      "source": [
        "<a href=\"https://colab.research.google.com/github/nouran551/Machine-Learning-Training/blob/main/Assignment_5.ipynb\" target=\"_parent\"><img src=\"https://colab.research.google.com/assets/colab-badge.svg\" alt=\"Open In Colab\"/></a>"
      ]
    },
    {
      "cell_type": "markdown",
      "metadata": {
        "id": "vmlIHbPaiC_0"
      },
      "source": [
        "### Numpy Assignment"
      ]
    },
    {
      "cell_type": "markdown",
      "metadata": {
        "id": "R2-PpfJUtJZ2"
      },
      "source": [
        "1.  Write a NumPy program to create an array of 10 zeros,10 ones, 10 fives.<br>\n",
        "\n",
        "\n",
        "SOL:  https://www.w3resource.com/python-exercises/numpy/basic/numpy-basic-exercise-13.php\n"
      ]
    },
    {
      "cell_type": "code",
      "metadata": {
        "id": "vXPoGG1Vht0J"
      },
      "source": [
        ""
      ],
      "execution_count": null,
      "outputs": []
    },
    {
      "cell_type": "markdown",
      "metadata": {
        "id": "dQqdKgHqtqHu"
      },
      "source": [
        "2.  Write a NumPy program to create a 3x4 matrix filled with values from 10 to 21. <br>\n",
        "SOL: https://www.w3resource.com/python-exercises/numpy/basic/numpy-basic-exercise-25.php"
      ]
    },
    {
      "cell_type": "code",
      "metadata": {
        "id": "2PPwF0Hzt03m"
      },
      "source": [
        ""
      ],
      "execution_count": null,
      "outputs": []
    },
    {
      "cell_type": "markdown",
      "metadata": {
        "id": "AyPf52e3t1ZJ"
      },
      "source": [
        "3.  Write a NumPy program to check whether two arrays are equal (element wise) or not.<br>\n",
        "\n",
        "SOL: https://www.w3resource.com/python-exercises/numpy/basic/numpy-basic-exercise-44.php"
      ]
    },
    {
      "cell_type": "code",
      "metadata": {
        "id": "UnG4dTzht-7b"
      },
      "source": [
        ""
      ],
      "execution_count": null,
      "outputs": []
    },
    {
      "cell_type": "markdown",
      "metadata": {
        "id": "L3rb3r1kuCvf"
      },
      "source": [
        "4.  Write a NumPy program to swap rows and columns of a given array in reverse order. <br>\n",
        "\n",
        "SOL: https://www.w3resource.com/python-exercises/numpy/basic/numpy-basic-exercise-58.php"
      ]
    },
    {
      "cell_type": "code",
      "metadata": {
        "id": "FFcrvrRhuMek"
      },
      "source": [
        ""
      ],
      "execution_count": null,
      "outputs": []
    },
    {
      "cell_type": "markdown",
      "metadata": {
        "id": "rK3sUns9uM6Y"
      },
      "source": [
        "5. Write a NumPy program to create a null vector of size 10 and update sixth value to 11.<br>\n",
        "[ 0. 0. 0. 0. 0. 0. 0. 0. 0. 0.]<br>\n",
        "Update sixth value to 11<br>\n",
        "[ 0. 0. 0. 0. 0. 0. 11. 0. 0. 0.]<br>\n",
        "\n",
        "SOL: https://www.w3resource.com/python-exercises/numpy/python-numpy-exercise-4.php"
      ]
    },
    {
      "cell_type": "code",
      "metadata": {
        "id": "q9waGEm4uZ5t"
      },
      "source": [
        ""
      ],
      "execution_count": null,
      "outputs": []
    },
    {
      "cell_type": "markdown",
      "metadata": {
        "id": "zgUhxxyauaYo"
      },
      "source": [
        "6. Write a NumPy program to convert a list and tuple into arrays. <br>\n",
        "List to array:<br>\n",
        "[1 2 3 4 5 6 7 8]<br>\n",
        "Tuple to array:<br>\n",
        "[[8 4 6]<br>\n",
        "[1 2 3]]<br>\n",
        "\n",
        "SOL: https://www.w3resource.com/python-exercises/numpy/python-numpy-exercise-11.php"
      ]
    },
    {
      "cell_type": "code",
      "metadata": {
        "id": "_MhuzDTMuq49"
      },
      "source": [
        ""
      ],
      "execution_count": null,
      "outputs": []
    },
    {
      "cell_type": "markdown",
      "metadata": {
        "id": "d4r8Pd7AurdY"
      },
      "source": [
        "7.  Write a NumPy program to change the dimension of an array. <br>\n",
        "Expected Output:<br>\n",
        "6 rows and 0 columns<br>\n",
        "(6,)<br>\n",
        "(3, 3) -> 3 rows and 3 columns<br>\n",
        "[[1 2 3]<br>\n",
        "[4 5 6]<br>\n",
        "[7 8 9]]<br>\n",
        "Change array shape to (3, 3) -> 3 rows and 3 columns<br>\n",
        "[[1 2 3]<br>\n",
        "[4 5 6]<br>\n",
        "[7 8 9]]<br>\n",
        "\n",
        "SOL: https://www.w3resource.com/python-exercises/numpy/python-numpy-exercise-35.php"
      ]
    },
    {
      "cell_type": "code",
      "metadata": {
        "id": "mP2STm_3vbxS"
      },
      "source": [
        ""
      ],
      "execution_count": null,
      "outputs": []
    },
    {
      "cell_type": "markdown",
      "metadata": {
        "id": "B_ejqDDTvcNu"
      },
      "source": [
        "8. Write a NumPy program to compute the multiplication of two given matrices.<br>\n",
        "SOL: https://www.w3resource.com/python-exercises/numpy/linear-algebra/numpy-linear-algebra-exercise-1.php"
      ]
    },
    {
      "cell_type": "code",
      "metadata": {
        "id": "3Ln__JUkvvDY"
      },
      "source": [
        ""
      ],
      "execution_count": null,
      "outputs": []
    },
    {
      "cell_type": "markdown",
      "metadata": {
        "id": "RSiImYM6vvvp"
      },
      "source": [
        "9. Write a NumPy program to create a 3x3x3 array with random values. <br>\n",
        "Expected Output: <br>\n",
        "[[[ 0.48941799 0.58722213 0.43453926] <br>\n",
        "[ 0.94497547 0.81081709 0.1510409 ] <br>\n",
        "[ 0.66657127 0.29494755 0.48047144]] <br>\n",
        "[[ 0.02287253 0.95232614 0.32264936] <br>\n",
        "[ 0.67009741 0.25458304 0.16290913] <br>\n",
        "[ 0.15520198 0.86826529 0.9679322 ]]  <br>\n",
        "[[ 0.13503103 0.02042211 0.24683897]  <br>\n",
        "[ 0.97852158 0.22374748 0.10798856]  <br>\n",
        "[ 0.62032646 0.5893892 0.16958144]]] <br>\n",
        "\n",
        "SOL: https://www.w3resource.com/python-exercises/numpy/python-numpy-random-exercise-3.php"
      ]
    },
    {
      "cell_type": "code",
      "metadata": {
        "id": "eUVGJozewBmu"
      },
      "source": [
        ""
      ],
      "execution_count": null,
      "outputs": []
    },
    {
      "cell_type": "markdown",
      "metadata": {
        "id": "qdS-JHdowCDu"
      },
      "source": [
        "10. Write a NumPy program to sort the student id with increasing height of the students from given students id and height. Print the integer indices that describes the sort order by multiple columns and the sorted data. <br>\n",
        "Expected Output: <br>\n",
        "Sorted indices: <br>\n",
        "[4 0 5 3 6 1 2] <br>\n",
        "Sorted data:  <br>\n",
        "1682 38.0  <br>\n",
        "1023 40.0  <br>\n",
        "5241 40.0  <br>\n",
        "1671 41.0  <br>\n",
        "4532 42.0  <br>\n",
        "5202 42.0  <br>\n",
        "6230 45.0  <br>\n",
        "\n",
        "SOL: https://www.w3resource.com/python-exercises/numpy/python-numpy-sorting-and-searching-exercise-4.php"
      ]
    },
    {
      "cell_type": "code",
      "metadata": {
        "id": "FKbvbEpPwfJb"
      },
      "source": [
        ""
      ],
      "execution_count": null,
      "outputs": []
    }
  ]
}