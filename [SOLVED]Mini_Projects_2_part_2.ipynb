{
  "nbformat": 4,
  "nbformat_minor": 0,
  "metadata": {
    "colab": {
      "name": "Copy of Mini_Projects_2/ part 2.ipynb",
      "provenance": [],
      "collapsed_sections": [],
      "toc_visible": true,
      "include_colab_link": true
    },
    "kernelspec": {
      "name": "python3",
      "display_name": "Python 3"
    }
  },
  "cells": [
    {
      "cell_type": "markdown",
      "metadata": {
        "id": "view-in-github",
        "colab_type": "text"
      },
      "source": [
        "<a href=\"https://colab.research.google.com/github/OmarWaelAhmed/Machine-Learning-Training/blob/main/%5BSOLVED%5DMini_Projects_2_part_2.ipynb\" target=\"_parent\"><img src=\"https://colab.research.google.com/assets/colab-badge.svg\" alt=\"Open In Colab\"/></a>"
      ]
    },
    {
      "cell_type": "markdown",
      "metadata": {
        "id": "c2sSEq3uSurn"
      },
      "source": [
        "# Files and Exceptions"
      ]
    },
    {
      "cell_type": "code",
      "metadata": {
        "id": "VppOUgyU_Auv"
      },
      "source": [
        "from google.colab import drive\n",
        "drive.mount('/content/drive')"
      ],
      "execution_count": null,
      "outputs": []
    },
    {
      "cell_type": "markdown",
      "metadata": {
        "id": "qw2XyRs-TWIF"
      },
      "source": [
        "**8. Sum of Numbers** <br>\n",
        "Assume that a file containing a series of integers is named numbers.txt and exists on the Drive. Write a program that reads all of the numbers stored in the file and calculates their total.\n",
        "\n",
        "Find file here: <br>\n",
        "https://drive.google.com/file/d/1GaOURA7jp0NLvfaOfl4cCClKK_pv3q0r/view?usp=sharing"
      ]
    },
    {
      "cell_type": "code",
      "metadata": {
        "id": "92EStR9KSu8N",
        "colab": {
          "base_uri": "https://localhost:8080/"
        },
        "outputId": "a1dba900-d044-4b23-b165-d1e061974e85"
      },
      "source": [
        "Sum = 0\n",
        "# Using the (with) statement to automatically handle closing the file we are using\n",
        "with open(\"numbers.txt\") as numbersFile:\n",
        "  # Since numbersFile is an iterable object, I go with a for loop directly to register each number to Sum\n",
        "  for line in numbersFile:\n",
        "    Sum += int(line)\n",
        "print(f\"Okay, the total of these weird numbers is:\\t {Sum}\")"
      ],
      "execution_count": 46,
      "outputs": [
        {
          "output_type": "stream",
          "text": [
            "Okay, the total of these weird numbers is:\t 5931486514\n"
          ],
          "name": "stdout"
        }
      ]
    },
    {
      "cell_type": "markdown",
      "metadata": {
        "id": "gW0mWcdDVgK4"
      },
      "source": [
        "**9. Average of Numbers** <br>\n",
        "Assume that a file containing a series of integers is named numbers.txt and exists on the Drive. Write a program that calculates the average of all the numbers stored in\n",
        "the file"
      ]
    },
    {
      "cell_type": "code",
      "metadata": {
        "id": "3-DZx-vnSvCe",
        "colab": {
          "base_uri": "https://localhost:8080/"
        },
        "outputId": "04b725c5-def4-4ada-d365-11eb06807c83"
      },
      "source": [
        "Sum = 0\n",
        "numbersCount = 0\n",
        "# Using the (with) statement to automatically handle closing the file we are using\n",
        "with open(\"numbers.txt\") as numbersFile:\n",
        "  # Since numbersFile is an iterable object, I go with a for loop directly to register each number to Sum\n",
        "  for line in numbersFile:\n",
        "    numbersCount += 1\n",
        "    Sum += int(line)\n",
        "print(f\"Okay, the arithmetic mean of these weird numbers is:\\t {Sum/numbersCount}\")"
      ],
      "execution_count": 47,
      "outputs": [
        {
          "output_type": "stream",
          "text": [
            "Okay, the arithmetic mean of these weird numbers is:\t 102267008.86206897\n"
          ],
          "name": "stdout"
        }
      ]
    },
    {
      "cell_type": "markdown",
      "metadata": {
        "id": "vjchCYETVwPx"
      },
      "source": [
        "**10. Random Number File Writer**<br>\n",
        "Write a program that writes a series of random numbers to a file. Each random number should be in the range of 1 \n",
        "through 500. The application should let the user specify how\n",
        "many random numbers the file will hold.\n"
      ]
    },
    {
      "cell_type": "code",
      "metadata": {
        "id": "JlF8IwNTvKXH"
      },
      "source": [
        "##### RE-reuse my dear input-checking subroutine\n",
        "\n",
        "# A subroutine that rigorously checks whether a given input is a number (and whether it fulfills other optional constraints)\n",
        "def isValidNumber(input, positive,integer,notZero):\n",
        "  # Using a boolean flag to communicate numerical validity throughout the subroutine\n",
        "  # It is set to be False be default\n",
        "  validNumber = False\n",
        "\n",
        "  # Attempting type (float) casting to test whether the passed input is a valid floating-point number (real number)\n",
        "  # This will naturally check against a lot of invalid values such as characters, symbols, and Null (None)\n",
        "  try:\n",
        "    float_number = float(input)\n",
        "\n",
        "    # If casting succeeded, then we should have a real number. Therefore, we flag this input as valid for now.\n",
        "    validNumber = True\n",
        "\n",
        "    # Next, we check for further attributes of the inputed number. These attributes are specified by the arguments passes to function isValidNumber.\n",
        "\n",
        "    if (positive): # If the input is required to be a positive number (by passing True as an argument for \"positive\")\n",
        "      if(float(input) >= 0):\n",
        "        validNumber = True # Confirm the validiy of the input according to this requirement (i.e. we confirm that the input is a valid positive number)\n",
        "      else:\n",
        "        print(\"It seems that negative numbers are not allowed. You may try again.\")\n",
        "        validNumber = False\n",
        "        return validNumber # Return because if a positive number is required and the user failed to provide it, then the input will not be useful anyway (hence we don't have to dive deeper in the subroutine).\n",
        "\n",
        "    if (integer): # If the input is required to be an integer (by passing True as an argument for \"integer\")\n",
        "\n",
        "      # The method isdigit() checks whether a given string is composed of digits ONLY.\n",
        "      # Even a floating (decimal) point is not regarded as a digit. So, if the input contains a decimal point (because the user entered a decimal number), the function will return \"false\".\n",
        "      # Since we are sure we have a real number at this point in the subrotine, \"false\" will have one single meaning: the number is decimal (not integer).\n",
        "      if (input.isdigit()):\n",
        "        validNumber = True # Confirm that the input is a valid integer number)\n",
        "      else:\n",
        "        print(\"Sorry, your input is not an integer number. Please try again!\") # Print a message that specifies the problem with the user's input\n",
        "        validNumber = False\n",
        "        return validNumber # Return because if an integer number is required and the user failed to provide it, then the input will not be useful anyway (hence we don't have to dive deeper in the subroutine).\n",
        "\n",
        "    if (notZero): # If the input is required to be a non-zero number (by passing True as an argument for \"notZero\")\n",
        "      if (float(input) != 0):\n",
        "        validNumber = True # Confirm that the input is a valid non-zero number\n",
        "      else:\n",
        "        print(\"Oh no, zero is not allowed for this input. Kindly provide a non-zero value\")\n",
        "        validNumber = False\n",
        "        return validNumber # Return because if a positive number is required and the user failed to provide it, then the input will not be useful anyway (hence we don't have to dive deeper in the subroutine).\n",
        "      \n",
        "  except ValueError:\n",
        "    print(\"Oops!\\nIt looks like you entered an invalid number. \\nYou can try again!\")\n",
        "\n",
        "\n",
        "  return validNumber\n",
        "# End of the defination of isValid subroutine"
      ],
      "execution_count": 20,
      "outputs": []
    },
    {
      "cell_type": "code",
      "metadata": {
        "id": "DCyba_BZVxLF"
      },
      "source": [
        "import random\n",
        "\n",
        "while(True): # Keep asking the user for a valid number of lines\n",
        "  numberOfLines = input(\"Hey! Would you like to generate some random numbers in some file?\\n Type in how many numbers you want to see in the file:\\t\")\n",
        "  if isValidNumber(numberOfLines,True,True,True):\n",
        "    break\n",
        "\n",
        "# Creating a text file to save random numbers to\n",
        "randomFile = open(\"randomNumbers.txt\",\"w\")\n",
        "# Filling the text file with the prechosen number of random numbers\n",
        "for line in range(1, int(numberOfLines) + 1):\n",
        "  randomFile.write(str(random.randint(1 , 500)) +\"\\n\")\n",
        "randomFile.close()\n",
        "\n",
        "print(\"Numbers generated and stored successfully!\\n\")\n",
        "print(\"============================================\")\n",
        "input(\"Press enter to view the generated numbers...\")\n",
        "\n",
        "with open(\"randomNumbers.txt\") as randomNumbers:\n",
        "  for line in randomNumbers:\n",
        "    print(line)"
      ],
      "execution_count": null,
      "outputs": []
    },
    {
      "cell_type": "code",
      "metadata": {
        "id": "uZ7CQJM0VxN5"
      },
      "source": [
        ""
      ],
      "execution_count": null,
      "outputs": []
    },
    {
      "cell_type": "markdown",
      "metadata": {
        "id": "p75ZKqbXWMdY"
      },
      "source": [
        "**11.  Exception Handing** <br>\n",
        "Modify the program that you wrote for Exercise 9 so it handles the following exceptions: <br>\n",
        "* It should handle any IOError exceptions that are raised when the file is opened and data\n",
        "is read from it. <br>\n",
        "* It should handle any ValueError exceptions that are raised when the items that are read from the file are converted to a number."
      ]
    },
    {
      "cell_type": "code",
      "metadata": {
        "id": "22SOHQbrVxRE"
      },
      "source": [
        "Sum = 0\n",
        "numbersCount = 0\n",
        "try:\n",
        "  # Using the (with) statement to automatically handle closing the file we are using\n",
        "  with open(\"numbers.txt\") as numbersFile:\n",
        "    # Since numbersFile is an iterable object, I go with a for loop directly to register each number to Sum\n",
        "    for line in numbersFile:\n",
        "      numbersCount += 1\n",
        "      Sum += int(line)\n",
        "except IOError as error1:\n",
        "  print(\"Oops! Something went wrong with your file.\\n\"+ str(error1))\n",
        "except ValueError as error2:\n",
        "  print(\"Oops! Something went wrong while converting the numbers in your file.\\n\"+ str(error2))\n",
        "\n",
        "else:\n",
        "  print(f\"Okay, the arithmetic mean of these weird numbers is\\t {Sum/numbersCount}\")"
      ],
      "execution_count": null,
      "outputs": []
    },
    {
      "cell_type": "code",
      "metadata": {
        "id": "3p0MENR_WrBV"
      },
      "source": [
        ""
      ],
      "execution_count": null,
      "outputs": []
    }
  ]
}