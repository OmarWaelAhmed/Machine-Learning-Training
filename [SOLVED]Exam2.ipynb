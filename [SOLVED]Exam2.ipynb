{
  "nbformat": 4,
  "nbformat_minor": 0,
  "metadata": {
    "colab": {
      "name": "Copy of Exam2.ipynb",
      "provenance": [],
      "collapsed_sections": [],
      "include_colab_link": true
    },
    "kernelspec": {
      "display_name": "Python 3",
      "name": "python3"
    },
    "language_info": {
      "name": "python"
    }
  },
  "cells": [
    {
      "cell_type": "markdown",
      "metadata": {
        "id": "view-in-github",
        "colab_type": "text"
      },
      "source": [
        "<a href=\"https://colab.research.google.com/github/OmarWaelAhmed/Machine-Learning-Training/blob/main/%5BSOLVED%5DExam2.ipynb\" target=\"_parent\"><img src=\"https://colab.research.google.com/assets/colab-badge.svg\" alt=\"Open In Colab\"/></a>"
      ]
    },
    {
      "cell_type": "markdown",
      "metadata": {
        "id": "5wXGR30b9re6"
      },
      "source": [
        "# Question 1\n",
        "Write a program that asks the user to enter the amount that he or she has budgeted for a month. A loop should then prompt the user to enter each of his or her expenses for the month and keep a running total. When the loop finishes, the program should display the amount that the user is over or under budget."
      ]
    },
    {
      "cell_type": "code",
      "metadata": {
        "id": "VqHLKlqN9orp"
      },
      "source": [
        "##### RE-use my dear input-checking subroutine\n",
        "\n",
        "# Author: Omar Wael Ahmed\n",
        "\n",
        "# A subroutine that rigorously checks whether a given input is a number (and whether it fulfills other optional constraints)\n",
        "def isValidNumber(input, positive,integer,notZero):\n",
        "  # Using a boolean flag to communicate numerical validity throughout the subroutine\n",
        "  # It is set to be False by default\n",
        "  validNumber = False\n",
        "\n",
        "  # Attempting type (float) casting to test whether the passed input is a valid floating-point number (real number)\n",
        "  # This will naturally check against a lot of invalid values such as characters, symbols, and Null (None)\n",
        "  try:\n",
        "    float_number = float(input)\n",
        "\n",
        "    # If casting succeeded, then we should have a real number. Therefore, we flag this input as valid for now.\n",
        "    validNumber = True\n",
        "\n",
        "    # Next, we check for further attributes of the inputed number. These attributes are specified by the arguments passed to function isValidNumber.\n",
        "\n",
        "    if (positive): # If the input is required to be a positive number (by passing True as an argument for \"positive\")\n",
        "      if(float(input) >= 0):\n",
        "        validNumber = True # Confirm the validiy of the input according to this requirement (i.e. we confirm that the input is a valid positive number)\n",
        "      else:\n",
        "        print(\"It seems that negative numbers are not allowed. You may try again.\")\n",
        "        validNumber = False\n",
        "        return validNumber # Return because if a positive number is required and the user failed to provide it, then the input will not be useful anyway (hence we don't have to dive deeper in the subroutine).\n",
        "\n",
        "    if (integer): # If the input is required to be an integer (by passing True as an argument for \"integer\")\n",
        "\n",
        "      # The method isdigit() checks whether a given string is composed of digits ONLY.\n",
        "      # Even a floating (decimal) point is not regarded as a digit. So, if the input contains a decimal point (because the user entered a decimal number), the function will return \"false\".\n",
        "      # Since we are sure we have a real number at this point in the subrotine, \"false\" will have one single meaning: the number is decimal (not integer).\n",
        "      if (input.isdigit()):\n",
        "        validNumber = True # Confirm that the input is a valid integer number)\n",
        "      else:\n",
        "        print(\"Sorry, your input is not an integer number. Please try again!\") # Print a message that specifies the problem with the user's input\n",
        "        validNumber = False\n",
        "        return validNumber # Return because if an integer number is required and the user failed to provide it, then the input will not be useful anyway (hence we don't have to dive deeper in the subroutine).\n",
        "\n",
        "    if (notZero): # If the input is required to be a non-zero number (by passing True as an argument for \"notZero\")\n",
        "      if (float(input) != 0):\n",
        "        validNumber = True # Confirm that the input is a valid non-zero number\n",
        "      else:\n",
        "        print(\"Oh no, zero is not allowed for this input. Kindly provide a non-zero value\")\n",
        "        validNumber = False\n",
        "        return validNumber\n",
        "      \n",
        "  except ValueError:\n",
        "    print(\"Oops!\\nIt looks like you entered an invalid number. \\nYou can try again!\")\n",
        "\n",
        "\n",
        "  return validNumber\n",
        "# End of the defination of isValid subroutine"
      ],
      "execution_count": null,
      "outputs": []
    },
    {
      "cell_type": "code",
      "metadata": {
        "id": "XuGpL3UL38Lx"
      },
      "source": [
        "print(\"Hello!\\nYou can use this program to lay down your expenses and analyze them.\\nStart by entering the lump sum budget you set for the month:\\n\")\n",
        " \n",
        "while (True):\n",
        "  monthBudget = input(\"\\nMonth Budget:\\t\")\n",
        " \n",
        "  if (isValidNumber(monthBudget,True,False,True)):break\n",
        " \n",
        "print(\"\\nNow, you can enter your expenses throughout the month:\")\n",
        "print(\"Note: When you finish entering your expenditures, please enter \\\"$\\\".\")\n",
        " \n",
        "expenses = [] # A list to register daily bugs collected over the five days\n",
        "expenditure =\"\"\n",
        "while(True): # Keep askking the user to add expenses untill he/she wants to exit\n",
        "  expenditure = input(f\"Expenditure #{len(expenses) + 1}:\\t\")\n",
        "  \n",
        "  if (expenditure == \"$\"): break\n",
        " \n",
        "  # Here, a valid expenditure needs to be a positive number. Zeros and floating-point numbers may be accepted as well.\n",
        "  if(isValidNumber(expenditure,True,False,False)): expenses.append(float(expenditure))\n",
        " \n",
        "  print(\"---------------------------\") # Just to keep comfortable spacing for the user's eyes.\n",
        " \n",
        "print(f\"\\nWell, your expenses sums up to {sum(expenses)}, which is {float(monthBudget) - sum(expenses)} above (+ve)/below (-ve) your month budget.\")"
      ],
      "execution_count": null,
      "outputs": []
    },
    {
      "cell_type": "markdown",
      "metadata": {
        "id": "kGBuj9Rk-veL"
      },
      "source": [
        "# Question 2 \n",
        "Write a function named max that accepts two integer values as arguments and returns the\n",
        "value that is the greater of the two. For example, if 7 and 12 are passed as arguments to\n",
        "the function, the function should return 12. Use the function in a program that prompts the\n",
        "user to enter two integer values. The program should display the value that is the greater\n",
        "of the two."
      ]
    },
    {
      "cell_type": "code",
      "metadata": {
        "id": "3psMKiEQ-m6k"
      },
      "source": [
        "def max(num1,num2):\n",
        "  return num1 if num1 > num2 else num2"
      ],
      "execution_count": null,
      "outputs": []
    },
    {
      "cell_type": "code",
      "metadata": {
        "id": "_kfd4i2ST9PU"
      },
      "source": [
        "print(\"Hi!\\nI am here today to compare some numbers for you.\")\n",
        "num1 = 0\n",
        "num2 = 0\n",
        "\n",
        "# Prompt the user to enter any two numbers\n",
        "\n",
        "print(\"\\nPlease enter a number.\")\n",
        "\n",
        "while (True):\n",
        "  num1 = input(\"\\nFirst Number:\\t\")\n",
        " \n",
        "  if (isValidNumber(num1,False,False,False)):break\n",
        "\n",
        "print(\"\\nPlease enter another number.\")\n",
        "\n",
        "while (True):\n",
        "  num2 = input(\"\\nSecond Number:\\t\")\n",
        " \n",
        "  if (isValidNumber(num2,False,False,False)):break\n",
        "\n",
        "print(f\"\\nOkay, the greatest number was {max(num1,num2)}.\")"
      ],
      "execution_count": null,
      "outputs": []
    },
    {
      "cell_type": "markdown",
      "metadata": {
        "id": "2QJ4_LYe_QyM"
      },
      "source": [
        "# Question 3\n",
        "Write a program that asks the user for the name of a file. The program should display the\n",
        "contents of the file with each line preceded with a line number followed by a colon. The\n",
        "line numbering should start at 1."
      ]
    },
    {
      "cell_type": "code",
      "metadata": {
        "id": "z_9PEjmp_P7c"
      },
      "source": [
        ""
      ],
      "execution_count": null,
      "outputs": []
    },
    {
      "cell_type": "markdown",
      "metadata": {
        "id": "mWPrmdWDAHJK"
      },
      "source": [
        "# Question 4\n",
        "Write a program that reads a string from the user containing a date in the form mm/dd/yyyy. It should print the date in the form March 12, 2014."
      ]
    },
    {
      "cell_type": "code",
      "metadata": {
        "id": "7o6o25d6AMDj"
      },
      "source": [
        "print(\"What's the date?\\nI can tell you. Just drop in a date in the form \\\"mm/dd/yyyy\\\" and I will convert it to a more readable form.\")\n",
        "print (\"E.g.: 06/30/2013 ===> June 30, 2013\")\n",
        "\n",
        "months_dict = {\"01\":\"January\", \"02\":\"February\", \"03\":\"March\", \"04\":\"April\",\"05\":\"May\", \"06\":\"June\", \"07\":\"July\", \"08\":\"August\", \"09\":\"September\", \"10\":\"October\", \"11\":\"November\", \"12\":\"December\"}\n",
        "dateParts = []\n",
        "\n",
        "while(True):\n",
        "  date = input(\"\\nDate (mm/dd/yyyy):\\t\")\n",
        "  dateParts = date.split(\"/\")\n",
        "\n",
        "  # Perform some basic checks on the input to ensure proper output.\n",
        "  if (len(dateParts) == 3 and isValidNumber(dateParts[0],True,True,True) and isValidNumber(dateParts[1],True,True,True) and isValidNumber(dateParts[2],True,True,True) and months_dict.get(dateParts[0]) != None):break\n",
        "  else: print(\"It seems like you entered an invalid date. Please stick to the format given in the emample above.\")\n",
        "\n",
        "print(f\"\\nThis date is corresponding to: {months_dict.get(dateParts[0])} {dateParts[1]}, {dateParts[2]}.\")"
      ],
      "execution_count": null,
      "outputs": []
    },
    {
      "cell_type": "markdown",
      "metadata": {
        "id": "jSxraWwFqJ6b"
      },
      "source": [
        "# Question 5\n",
        "Write a class named Person with data attributes for a person’s name, address, and telephone number. Next, write a class named Customer that is a subclass of the Person class.\n",
        "The Customer class should have a data attribute for a customer number and a Boolean\n",
        "data attribute indicating whether the customer wishes to be on a mailing list. Demonstrate\n",
        "an instance of the Customer class in a simple program."
      ]
    },
    {
      "cell_type": "code",
      "metadata": {
        "id": "s5A4itpdA2K0"
      },
      "source": [
        "class Person():\n",
        "  def __init__(self, name, address, telephone_number):\n",
        "    self.__name = name\n",
        "    self.__address = address\n",
        "    self.__telephone_number = telephone_number\n",
        "\n",
        "  def get_name(self):\n",
        "    return self.__name\n",
        "  \n",
        "  def get_address(self):\n",
        "    return self.__address\n",
        "  \n",
        "  def get_telephone_number(self):\n",
        "    return self.__telephone_number\n",
        "\n",
        "  def set_name(self, name):\n",
        "    self.__name = name\n",
        "  \n",
        "  def set_address(self, address):\n",
        "    self.__address = address\n",
        "\n",
        "  def set_telephone_number(self, telephone_number):\n",
        "    self.__telephone_number = telephone_number"
      ],
      "execution_count": null,
      "outputs": []
    },
    {
      "cell_type": "code",
      "metadata": {
        "id": "MIJBc70sFH4B"
      },
      "source": [
        "class Customer(Person):\n",
        "  def __init__(self, name, address, telephone_number, number, optInMailing):\n",
        "    self.__number = number\n",
        "    self.__optInMailing = optInMailing\n",
        "    Person.__init__(self, name, address, telephone_number)\n",
        "  \n",
        "  def get_number(self):\n",
        "    return self.__number\n",
        "  \n",
        "  def get_optInMailing(self):\n",
        "    return self.__optInMailing\n",
        "\n",
        "  def set_number(self, number):\n",
        "    self.__number = number\n",
        "  \n",
        "  def set_optInMailing(self, optInMailing):\n",
        "    self.__optInMailing = optInMailing"
      ],
      "execution_count": null,
      "outputs": []
    },
    {
      "cell_type": "markdown",
      "metadata": {
        "id": "Psab1ArBA2Yp"
      },
      "source": [
        "Once You finish Fill the Form: https://docs.google.com/forms/d/e/1FAIpQLSeu1EmFSSURi7TYZ7LvNQREvDEeGue6enxF2j_wy2mNU-q2xw/viewform?usp=sf_link"
      ]
    }
  ]
}