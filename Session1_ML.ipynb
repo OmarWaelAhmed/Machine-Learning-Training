{
  "nbformat": 4,
  "nbformat_minor": 0,
  "metadata": {
    "colab": {
      "name": "Session1_ML.ipynb",
      "provenance": [],
      "include_colab_link": true
    },
    "kernelspec": {
      "name": "python3",
      "display_name": "Python 3"
    }
  },
  "cells": [
    {
      "cell_type": "markdown",
      "metadata": {
        "id": "view-in-github",
        "colab_type": "text"
      },
      "source": [
        "<a href=\"https://colab.research.google.com/github/nouran551/Machine-Learning-Training/blob/main/Session1_ML.ipynb\" target=\"_parent\"><img src=\"https://colab.research.google.com/assets/colab-badge.svg\" alt=\"Open In Colab\"/></a>"
      ]
    },
    {
      "cell_type": "markdown",
      "metadata": {
        "id": "RI1dL-4p0Q_D"
      },
      "source": [
        "## Assignment \n",
        "https://colab.research.google.com/drive/1wxpH_BN5qEsnaYkTgiifktRWyakDSVE3?usp=sharing"
      ]
    },
    {
      "cell_type": "markdown",
      "metadata": {
        "id": "xnCuIEbEY3kI"
      },
      "source": [
        "# Input, Processing, and Output"
      ]
    },
    {
      "cell_type": "code",
      "metadata": {
        "id": "9y78dhc1UUCC",
        "colab": {
          "base_uri": "https://localhost:8080/"
        },
        "outputId": "9961e56b-e96d-427d-f49a-3d173235c218"
      },
      "source": [
        "print('Kate Austen')\n",
        "print('123 Full Circle Drive')\n",
        "print('Asheville, NC 28899')"
      ],
      "execution_count": null,
      "outputs": [
        {
          "output_type": "stream",
          "text": [
            "Kate Austen\n",
            "123 Full Circle Drive\n",
            "Asheville, NC 28899\n"
          ],
          "name": "stdout"
        }
      ]
    },
    {
      "cell_type": "code",
      "metadata": {
        "colab": {
          "base_uri": "https://localhost:8080/"
        },
        "id": "sX12CDVFsYRR",
        "outputId": "c19426a1-f736-4653-aa8d-40b1d3f1063e"
      },
      "source": [
        "print(\"Kate Austen\")\n",
        "print(\"123 Full Circle Drive\")\n",
        "print(\"Asheville, NC 28899\")"
      ],
      "execution_count": null,
      "outputs": [
        {
          "output_type": "stream",
          "text": [
            "Kate Austen\n",
            "123 Full Circle Drive\n",
            "Asheville, NC 28899\n"
          ],
          "name": "stdout"
        }
      ]
    },
    {
      "cell_type": "code",
      "metadata": {
        "colab": {
          "base_uri": "https://localhost:8080/"
        },
        "id": "gdTU9oySsfYu",
        "outputId": "41578ece-c77f-4bf4-f4f1-e788230e9728"
      },
      "source": [
        "print('Don\\'t fear!')\n",
        "print(\"I'm here!\")"
      ],
      "execution_count": null,
      "outputs": [
        {
          "output_type": "stream",
          "text": [
            "Don't fear!\n",
            "I'm here!\n"
          ],
          "name": "stdout"
        }
      ]
    },
    {
      "cell_type": "code",
      "metadata": {
        "colab": {
          "base_uri": "https://localhost:8080/"
        },
        "id": "tjdERf-7shvO",
        "outputId": "e071e7c4-ab0d-4e51-b7e1-10825cd2ba2d"
      },
      "source": [
        " print(\"Your assignment is to read \\\"Hamlet\\\" by tomorrow.\")"
      ],
      "execution_count": null,
      "outputs": [
        {
          "output_type": "stream",
          "text": [
            "Your assignment is to read \"Hamlet\" by tomorrow.\n"
          ],
          "name": "stdout"
        }
      ]
    },
    {
      "cell_type": "code",
      "metadata": {
        "colab": {
          "base_uri": "https://localhost:8080/"
        },
        "id": "l9CChu7Cskl-",
        "outputId": "a4c0ee6d-5b15-4846-9ae6-d2d012c21bd0"
      },
      "source": [
        "print(\"\"\"I'm reading \"Hamlet\" tonight.\"\"\")"
      ],
      "execution_count": null,
      "outputs": [
        {
          "output_type": "stream",
          "text": [
            "I'm reading \"Hamlet\" tonight.\n"
          ],
          "name": "stdout"
        }
      ]
    },
    {
      "cell_type": "code",
      "metadata": {
        "colab": {
          "base_uri": "https://localhost:8080/"
        },
        "id": "K_dwtP_WsnKt",
        "outputId": "64597cc0-f468-4994-e773-d9cd55f633c0"
      },
      "source": [
        "print(\"\"\"One\n",
        "Two\n",
        "Three\"\"\")\n"
      ],
      "execution_count": null,
      "outputs": [
        {
          "output_type": "stream",
          "text": [
            "One\n",
            "Two\n",
            "Three\n"
          ],
          "name": "stdout"
        }
      ]
    },
    {
      "cell_type": "code",
      "metadata": {
        "colab": {
          "base_uri": "https://localhost:8080/"
        },
        "id": "z0kjc2yKspMt",
        "outputId": "2317a7f1-7440-4115-ed32-14957a340ad7"
      },
      "source": [
        "\n",
        "# This program displays a person's\n",
        "# name and address.\n",
        "print('Kate Austen')\n",
        "print('123 Full Circle Drive')\n",
        "print('Asheville, NC 28899')"
      ],
      "execution_count": null,
      "outputs": [
        {
          "output_type": "stream",
          "text": [
            "Kate Austen\n",
            "123 Full Circle Drive\n",
            "Asheville, NC 28899\n"
          ],
          "name": "stdout"
        }
      ]
    },
    {
      "cell_type": "code",
      "metadata": {
        "colab": {
          "base_uri": "https://localhost:8080/"
        },
        "id": "sqHlmibHtonc",
        "outputId": "84279bde-0d75-4fdb-cdae-b35e5c24c7ab"
      },
      "source": [
        "print('Kate Austen') # Display the name.\n",
        "print('123 Full Circle Drive') # Display the address.\n",
        "print('Asheville, NC 28899') # Display the city, state, and ZIP."
      ],
      "execution_count": null,
      "outputs": [
        {
          "output_type": "stream",
          "text": [
            "Kate Austen\n",
            "123 Full Circle Drive\n",
            "Asheville, NC 28899\n"
          ],
          "name": "stdout"
        }
      ]
    },
    {
      "cell_type": "code",
      "metadata": {
        "colab": {
          "base_uri": "https://localhost:8080/"
        },
        "id": "y5PTvLQutsXc",
        "outputId": "f78e8389-5fb9-4285-d65a-190c774e0105"
      },
      "source": [
        "room = 503 \n",
        "print('I am staying in room number') \n",
        "print(room)    \n"
      ],
      "execution_count": null,
      "outputs": [
        {
          "output_type": "stream",
          "text": [
            "I am staying in room number\n",
            "503\n"
          ],
          "name": "stdout"
        }
      ]
    },
    {
      "cell_type": "code",
      "metadata": {
        "colab": {
          "base_uri": "https://localhost:8080/"
        },
        "id": "JFrsy7gi-8Ph",
        "outputId": "5037247f-53bd-4ce3-9d6e-b76f184aee57"
      },
      "source": [
        " room = 503 \n",
        "print('I am staying in room number', room)\n"
      ],
      "execution_count": null,
      "outputs": [
        {
          "output_type": "stream",
          "text": [
            "I am staying in room number 503\n"
          ],
          "name": "stdout"
        }
      ]
    },
    {
      "cell_type": "markdown",
      "metadata": {
        "id": "NaF_1Mv4IFLC"
      },
      "source": [
        "## Variable Reassignment\n"
      ]
    },
    {
      "cell_type": "code",
      "metadata": {
        "colab": {
          "base_uri": "https://localhost:8080/"
        },
        "id": "Fy9bmyQI--l7",
        "outputId": "998960cc-a4a1-4933-eef3-3466ea2d8c97"
      },
      "source": [
        "# This program demonstrates variable reassignment.\n",
        "# Assign a value to the dollars variable.\n",
        "dollars = 2.75\n",
        "print('I have', dollars,'in my account.')\n",
        "\n",
        "# Reassign dollars so it references\n",
        "# a different value.\n",
        "dollars = 99.95\n",
        "print('But now I have', dollars, 'in my account!')\n"
      ],
      "execution_count": null,
      "outputs": [
        {
          "output_type": "stream",
          "text": [
            "I have 2.75 in my account.\n",
            "But now I have 99.95 in my account!\n"
          ],
          "name": "stdout"
        }
      ]
    },
    {
      "cell_type": "code",
      "metadata": {
        "colab": {
          "base_uri": "https://localhost:8080/"
        },
        "id": "MeRsmxTHIWWq",
        "outputId": "4f18adf6-ca50-40b1-ceb4-6e75937a9953"
      },
      "source": [
        " # Create variables to reference two strings.\n",
        "first_name = \"Kathryn\"\n",
        "last_name = 'Marino'\n",
        "\n",
        "# Display the values referenced by the variables.\n",
        "print(first_name, last_name)"
      ],
      "execution_count": null,
      "outputs": [
        {
          "output_type": "stream",
          "text": [
            "Kathryn Marino\n"
          ],
          "name": "stdout"
        }
      ]
    },
    {
      "cell_type": "code",
      "metadata": {
        "colab": {
          "base_uri": "https://localhost:8080/"
        },
        "id": "kJcoNB7MSoNc",
        "outputId": "b01a548d-e1c1-4ed2-c459-f243ab703c27"
      },
      "source": [
        "# Get the user's first name.\n",
        "first_name = input('Enter your first name: ')\n",
        "\n",
        "# Get the user's last name.\n",
        "last_name = input('Enter your last name: ')\n",
        "\n",
        "# Print a greeting to the user.\n",
        "print('Hello', first_name, last_name)\n"
      ],
      "execution_count": null,
      "outputs": [
        {
          "output_type": "stream",
          "text": [
            "Enter your first name: Nouran\n",
            "Enter your last name: Waleed\n",
            "Hello Nouran Waleed\n"
          ],
          "name": "stdout"
        }
      ]
    },
    {
      "cell_type": "markdown",
      "metadata": {
        "id": "aLyd401EeYEF"
      },
      "source": [
        "## Data Conversion"
      ]
    },
    {
      "cell_type": "code",
      "metadata": {
        "id": "0acGkM2bm-7q",
        "colab": {
          "base_uri": "https://localhost:8080/"
        },
        "outputId": "cd298252-b5ba-466d-9632-94b41e1be322"
      },
      "source": [
        " # Get the user's name, age, and income.\n",
        "name = input('What is your name? ')\n",
        "age = int(input('What is your age? ')) \n",
        "income = float(input('What is your income? '))\n",
        "\n",
        "# Display the data.\n",
        "print('Here is the data you entered:')\n",
        "print('Name:', name)\n",
        "print('Age:', age)\n",
        "print('Income:', income)"
      ],
      "execution_count": null,
      "outputs": [
        {
          "output_type": "stream",
          "text": [
            "What is your name? Ahmed\n",
            "What is your age? 20\n",
            "What is your income? 463.5\n",
            "Here is the data you entered:\n",
            "Name: Ahmed\n",
            "Age: 20\n",
            "Income: 463.5\n"
          ],
          "name": "stdout"
        }
      ]
    },
    {
      "cell_type": "markdown",
      "metadata": {
        "id": "i535RkcWhYw1"
      },
      "source": [
        "## Performing Calculations"
      ]
    },
    {
      "cell_type": "code",
      "metadata": {
        "id": "Yu4z4gs7tm_I",
        "colab": {
          "base_uri": "https://localhost:8080/"
        },
        "outputId": "ba1a2fd5-be0d-43bf-8458-812e3b379104"
      },
      "source": [
        "# Assign a value to the salary variable.\n",
        "salary = 2500.0\n",
        "\n",
        "# Assign a value to the bonus variable.\n",
        "bonus = 1200.0\n",
        "\n",
        "# Calculate the total pay by adding salary\n",
        "# and bonus. Assign the result to pay.\n",
        "pay = salary + bonus\n",
        "# Display the pay.\n",
        "print('Your pay is', pay)"
      ],
      "execution_count": null,
      "outputs": [
        {
          "output_type": "stream",
          "text": [
            "Your pay is 3700.0\n"
          ],
          "name": "stdout"
        }
      ]
    },
    {
      "cell_type": "markdown",
      "metadata": {
        "id": "DyC_9xmilBG9"
      },
      "source": [
        "### Calculating a Percentage\n",
        "If you are writing a program that works with a percentage, you have to make sure that\n",
        "the percentage’s decimal point is in the correct location before doing any math with the\n",
        "percentage. This is especially true when the user enters a percentage as input. Most users\n",
        "enter the number 50 to mean 50 percent, 20 to mean 20 percent, and so forth. Before you\n",
        "perform any calculations with such a percentage, you have to divide it by 100 to move its\n",
        "decimal point two places to the left.\n",
        "Let’s step through the process of writing a program that calculates a percentage. Suppose a\n",
        "retail business is planning to have a storewide sale where the prices of all items will be 20\n",
        "percent off. We have been asked to write a program to calculate the sale price of an item\n",
        "after the discount is subtracted. Here is the algorithm:\n",
        "1. Get the original price of the item.\n",
        "2. Calculate 20 percent of the original price. This is the amount of the discount.\n",
        "3. Subtract the discount from the original price. This is the sale price.\n",
        "4. Display the sale price.<br><br>\n",
        "In step 1 we get the original price of the item. We will prompt the user to enter this data on\n",
        "the keyboard. In our program we will use the following statement to do this. Notice that the\n",
        "value entered by the user will be stored in a variable named original_price.<br>\n",
        "<center> original_price = float(input(\"Enter the item's original price: \"))</center><br>\n",
        "In step 2, we calculate the amount of the discount. To do this we multiply the original price\n",
        "by 20 percent. The following statement performs this calculation and assigns the result to\n",
        "the discount variable.<br>\n",
        "<center>discount = original_price * 0.2</center><br>\n",
        "In step 3, we subtract the discount from the original price. The following statement does\n",
        "this calculation and stores the result in the sale_price variable.<br>\n",
        "<center>sale_price = original_price − discount</center><br>\n",
        "Last, in step 4, we will use the following statement to display the sale price:<br>\n",
        "<center>print('The sale price is', sale_price)</center>"
      ]
    },
    {
      "cell_type": "code",
      "metadata": {
        "colab": {
          "base_uri": "https://localhost:8080/"
        },
        "id": "-dtznmW-kqFN",
        "outputId": "58d0540d-8a13-443c-c39b-0c9b0a99de8a"
      },
      "source": [
        "# This program gets an item's original price and\n",
        "# calculates its sale price, with a 20% discount.\n",
        "# Get the item's original price.\n",
        "\n",
        "original_price = float(input(\"Enter the item's original price: \"))\n",
        "\n",
        "# Calculate the amount of the discount.\n",
        "discount = original_price * 0.2\n",
        "\n",
        "# Calculate the sale price.\n",
        "sale_price = original_price - discount\n",
        "\n",
        "# Display the sale price.\n",
        "print('The sale price is', sale_price)"
      ],
      "execution_count": null,
      "outputs": [
        {
          "output_type": "stream",
          "text": [
            "Enter the item's original price: 100.00\n",
            "The sale price is 80.0\n"
          ],
          "name": "stdout"
        }
      ]
    },
    {
      "cell_type": "markdown",
      "metadata": {
        "id": "8RBHa8JUqriM"
      },
      "source": [
        "### Calculating an Average\n",
        "Determining the average of a group of values is a simple calculation: add all of the values\n",
        "and then divide the sum by the number of values. Although this is a straightforward calculation, it is easy to make a mistake when writing a program that calculates an average.\n",
        "For example, let’s assume that the variables a, b, and c each hold a value and we want to\n",
        "calculate the average of those values. If we are careless, we might write a statement such as\n",
        "the following to perform the calculation:\n",
        "<center>average = a + b + c / 3.0 </center>\n",
        "Can you see the error in this statement? When it executes, the division will take place first.\n",
        "The value in c will be divided by 3, and then the result will be added to a + b. That is not\n",
        "the correct way to calculate an average. To correct this error we need to put parentheses\n",
        "around a + b + c, as shown here:\n",
        "<center>average = (a + b + c) / 3.0 </center>\n",
        "Let’s step through the process of writing a program that calculates an average. Suppose you\n",
        "have taken three tests in your computer science class, and you want to write a program that\n",
        "will display the average of the test scores. Here is the algorithm:<br>\n",
        "1. Get the first test score.<br>\n",
        "2. Get the second test score.<br>\n",
        "3. Get the third test score.<br>\n",
        "4. Calculate the average by adding the three test scores and dividing the sum by 3.<br>\n",
        "5. Display the average.<br>\n",
        "In steps 1, 2, and 3 we will prompt the user to enter the three test scores. We will store those\n",
        "test scores in the variables test1, test2, and test3. In step 4 we will calculate the average\n",
        "of the three test scores. We will use the following statement to perform the calculation and\n",
        "store the result in the average variable:\n",
        "<center>average = (test1 + test2 + test3) / 3.0</center>\n",
        "Last, in step 5, we display the average."
      ]
    },
    {
      "cell_type": "code",
      "metadata": {
        "colab": {
          "base_uri": "https://localhost:8080/"
        },
        "id": "f_kDdzEXrp2b",
        "outputId": "05c32492-c670-46bb-8f6b-3b8103812a1e"
      },
      "source": [
        "# Get three test scores and assign them to the\n",
        "# test1, test2, and test3 variables.\n",
        "test1 = float(input('Enter the first test score: '))\n",
        "test2 = float(input('Enter the second test score: '))\n",
        "test3 = float(input('Enter the third test score: '))\n",
        "\n",
        "# Calculate the average of the three scores\n",
        "# and assign the result to the average variable.\n",
        "average = (test1 + test2 + test3) / 3.0\n",
        "\n",
        "# Display the average.\n",
        "print('The average score is', average)"
      ],
      "execution_count": null,
      "outputs": [
        {
          "output_type": "stream",
          "text": [
            "Enter the first test score: 90\n",
            "Enter the second test score: 80\n",
            "Enter the third test score: 100\n",
            "The average score is 90.0\n"
          ],
          "name": "stdout"
        }
      ]
    },
    {
      "cell_type": "markdown",
      "metadata": {
        "id": "5jLd725_HTx1"
      },
      "source": [
        "## The Remainder Operator\n"
      ]
    },
    {
      "cell_type": "code",
      "metadata": {
        "colab": {
          "base_uri": "https://localhost:8080/"
        },
        "id": "WWTdSDErr3IX",
        "outputId": "a82d9fbb-e198-4f59-b506-d312394fd86a"
      },
      "source": [
        "# Get a number of seconds from the user.\n",
        "total_seconds = float(input('Enter a number of seconds: '))\n",
        "\n",
        "# Get the number of hours.\n",
        "hours = total_seconds // 3600\n",
        "\n",
        "# Get the number of remaining minutes.\n",
        "minutes = (total_seconds // 60) % 60\n",
        "\n",
        "# Get the number of remaining seconds.\n",
        "seconds = total_seconds % 60\n",
        "\n",
        "# Display the results.\n",
        "print('Here is the time in hours, minutes, and seconds:')\n",
        "print('Hours:', hours)\n",
        "print('Minutes:', minutes)\n",
        "print('Seconds:', seconds)"
      ],
      "execution_count": null,
      "outputs": [
        {
          "output_type": "stream",
          "text": [
            "Enter a number of seconds: 11730\n",
            "Here is the time in hours, minutes, and seconds:\n",
            "Hours: 3.0\n",
            "Minutes: 15.0\n",
            "Seconds: 30.0\n"
          ],
          "name": "stdout"
        }
      ]
    },
    {
      "cell_type": "markdown",
      "metadata": {
        "id": "gNhcymxBIq-A"
      },
      "source": [
        "### Converting a Math Formula to a Programming Statement\n",
        "Suppose you want to deposit a certain amount of money into a savings account and then\n",
        "leave it alone to draw interest for the next 10 years. At the end of 10 years you would like\n",
        "to have $10,000 in the account. How much do you need to deposit today to make that happen? You can use the following formula to find out:<br>\n",
        "\n",
        "$$p= \\frac{F}{(1+r)^n}$$\n",
        "\n",
        "The terms in the formula are as follows:<br>\n",
        "* P is the present value, or the amount that you need to deposit today.\n",
        "*\t F is the future value that you want in the account. (In this case, F is $10,000.)\n",
        "*\t r is the annual interest rate.\n",
        "*\t n is the number of years that you plan to let the money sit in the account.\n",
        "\n",
        "It would be convenient to write a computer program to perform the calculation because\n",
        "then we can experiment with different values for the variables. Here is an algorithm that\n",
        "we can use:\n",
        "1. Get the desired future value.\n",
        "2. Get the annual interest rate.\n",
        "3. Get the number of years that the money will sit in the account.\n",
        "4. Calculate the amount that will have to be deposited.\n",
        "5. Display the result of the calculation in step 4. \n",
        "\n",
        "\n",
        "In steps 1 through 3, we will prompt the user to enter the specified values. We will assign\n",
        "the desired future value to a variable named future_value, the annual interest rate to a\n",
        "variable named rate, and the number of years to a variable named years.\n",
        "In step 4, we calculate the present value, which is the amount of money that we will have\n",
        "to deposit. We will convert the formula previously shown to the following statement. The\n",
        "statement stores the result of the calculation in the present_value variable.\n",
        "<center>present_value = future_value / (1.0 + rate)**years</center>\n",
        "In step 5, we display the value in the present_value variable."
      ]
    },
    {
      "cell_type": "code",
      "metadata": {
        "colab": {
          "base_uri": "https://localhost:8080/"
        },
        "id": "yCih7YIJHfLt",
        "outputId": "445f0d02-6258-4d38-f728-72a5f011571b"
      },
      "source": [
        "# Get the desired future value.\n",
        "future_value = float(input('Enter the desired future value: '))\n",
        "\n",
        "# Get the annual interest rate.\n",
        "rate = float(input('Enter the annual interest rate: '))\n",
        "\n",
        "# Get the number of years that the money will appreciate.\n",
        "years = int(input('Enter the number of years the money will grow: '))\n",
        "\n",
        "# Calculate the amount needed to deposit.\n",
        "present_value = future_value / (1.0 + rate)**years\n",
        "\n",
        "# Display the amount needed to deposit.\n",
        "print('You will need to deposit this amount:', present_value)"
      ],
      "execution_count": null,
      "outputs": [
        {
          "output_type": "stream",
          "text": [
            "Enter the desired future value: 10000\n",
            "Enter the annual interest rate: 0.05\n",
            "Enter the number of years the money will grow: 10\n",
            "You will need to deposit this amount: 6139.132535407592\n"
          ],
          "name": "stdout"
        }
      ]
    },
    {
      "cell_type": "markdown",
      "metadata": {
        "id": "2c5dtKl7gHwp"
      },
      "source": [
        "## Formating numbers"
      ]
    },
    {
      "cell_type": "code",
      "metadata": {
        "colab": {
          "base_uri": "https://localhost:8080/"
        },
        "id": "Q7xNDtOKHQOy",
        "outputId": "e863fca2-45ea-44f7-c72c-65d6e7aba70d"
      },
      "source": [
        "# This program demonstrates how a floating-point\n",
        "# number is displayed with no formatting.\n",
        "amount_due = 5000.0\n",
        "monthly_payment = amount_due / 12.0\n",
        "print('The monthly payment is', monthly_payment)"
      ],
      "execution_count": null,
      "outputs": [
        {
          "output_type": "stream",
          "text": [
            "The monthly payment is 416.6666666666667\n"
          ],
          "name": "stdout"
        }
      ]
    },
    {
      "cell_type": "code",
      "metadata": {
        "id": "WWjyFVkFze45",
        "colab": {
          "base_uri": "https://localhost:8080/"
        },
        "outputId": "9ffbd029-0902-45af-ef0c-ca628b555bc5"
      },
      "source": [
        "print(format(12345.6789, '.2f'))"
      ],
      "execution_count": null,
      "outputs": [
        {
          "output_type": "stream",
          "text": [
            "12345.68\n"
          ],
          "name": "stdout"
        }
      ]
    },
    {
      "cell_type": "code",
      "metadata": {
        "id": "wKSYkP5SztH-",
        "colab": {
          "base_uri": "https://localhost:8080/"
        },
        "outputId": "34437ed6-97f0-4146-c136-ff5155f4410e"
      },
      "source": [
        "print(format(12345.6789, '.1f'))"
      ],
      "execution_count": null,
      "outputs": [
        {
          "output_type": "stream",
          "text": [
            "12345.7\n"
          ],
          "name": "stdout"
        }
      ]
    },
    {
      "cell_type": "code",
      "metadata": {
        "id": "pmeMGlm3zzfW",
        "colab": {
          "base_uri": "https://localhost:8080/"
        },
        "outputId": "1fa1943f-257c-4625-9d6f-5c7dce1794b3"
      },
      "source": [
        "print('The number is', format(1.234567, '.2f'))"
      ],
      "execution_count": null,
      "outputs": [
        {
          "output_type": "stream",
          "text": [
            "The number is 1.23\n"
          ],
          "name": "stdout"
        }
      ]
    },
    {
      "cell_type": "code",
      "metadata": {
        "id": "78t2O8F8z3q4",
        "colab": {
          "base_uri": "https://localhost:8080/"
        },
        "outputId": "ec41d59d-a7c3-4add-d8ac-609c61e3e889"
      },
      "source": [
        "# This program demonstrates how a floating-point\n",
        "# number can be formatted.\n",
        "amount_due = 5000.0\n",
        "monthly_payment = amount_due / 12\n",
        "print('The monthly payment is', \\\n",
        "format(monthly_payment, '.2f'))"
      ],
      "execution_count": null,
      "outputs": [
        {
          "output_type": "stream",
          "text": [
            "The monthly payment is 416.67\n"
          ],
          "name": "stdout"
        }
      ]
    },
    {
      "cell_type": "markdown",
      "metadata": {
        "id": "hbJ8OfbD0ujA"
      },
      "source": [
        "##Inserting Comma Separators"
      ]
    },
    {
      "cell_type": "code",
      "metadata": {
        "id": "Ta244CRE06wJ",
        "colab": {
          "base_uri": "https://localhost:8080/"
        },
        "outputId": "2c589d8c-dc8c-47d4-b705-18e6fdbbdb0a"
      },
      "source": [
        "print(format(12345.6789, ',.2f'))"
      ],
      "execution_count": null,
      "outputs": [
        {
          "output_type": "stream",
          "text": [
            "12,345.68\n"
          ],
          "name": "stdout"
        }
      ]
    },
    {
      "cell_type": "code",
      "metadata": {
        "id": "78oYGimp0_ir",
        "colab": {
          "base_uri": "https://localhost:8080/"
        },
        "outputId": "f675d7bc-b97a-46f6-f739-a828a02839c0"
      },
      "source": [
        "print(format(123456789.456, ',.2f'))"
      ],
      "execution_count": null,
      "outputs": [
        {
          "output_type": "stream",
          "text": [
            "123,456,789.46\n"
          ],
          "name": "stdout"
        }
      ]
    },
    {
      "cell_type": "code",
      "metadata": {
        "id": "IHEA84Lz1DAZ",
        "colab": {
          "base_uri": "https://localhost:8080/"
        },
        "outputId": "b9d9e8dc-cc6c-4901-b8c7-031a12f4355d"
      },
      "source": [
        "print(format(12345.6789, ',f'))"
      ],
      "execution_count": null,
      "outputs": [
        {
          "output_type": "stream",
          "text": [
            "12,345.678900\n"
          ],
          "name": "stdout"
        }
      ]
    },
    {
      "cell_type": "code",
      "metadata": {
        "id": "7GV2o-za1O1o",
        "colab": {
          "base_uri": "https://localhost:8080/"
        },
        "outputId": "8e3b1f88-53e7-47e0-b4f8-9393f4f76457"
      },
      "source": [
        "# This program demonstrates how a floating-point\n",
        "# number can be displayed as currency.\n",
        "monthly_pay = 5000.0\n",
        "annual_pay = monthly_pay * 12\n",
        "print('Your annual pay is $', \\\n",
        "format(annual_pay, ',.2f'), \\\n",
        "sep='') #separator: if you do not want a space printed between the items\n",
        "#, you can pass the argument sep=''"
      ],
      "execution_count": null,
      "outputs": [
        {
          "output_type": "stream",
          "text": [
            "Your annual pay is $60,000.00\n"
          ],
          "name": "stdout"
        }
      ]
    },
    {
      "cell_type": "markdown",
      "metadata": {
        "id": "utWryrE32ML_"
      },
      "source": [
        "##Formatting a Floating-Point Number as a Percentage"
      ]
    },
    {
      "cell_type": "code",
      "metadata": {
        "id": "-I5eDj-A2R72",
        "colab": {
          "base_uri": "https://localhost:8080/"
        },
        "outputId": "62a58e8f-ad0e-45a9-eaf0-e03fc107ee03"
      },
      "source": [
        "print(format(0.5, '%'))"
      ],
      "execution_count": null,
      "outputs": [
        {
          "output_type": "stream",
          "text": [
            "50.000000%\n"
          ],
          "name": "stdout"
        }
      ]
    },
    {
      "cell_type": "code",
      "metadata": {
        "id": "c4XH9Q0v2Wnz",
        "colab": {
          "base_uri": "https://localhost:8080/"
        },
        "outputId": "497cc14f-01e6-4b05-96bc-3bbce7902590"
      },
      "source": [
        "print(format(0.5, '.0%'))"
      ],
      "execution_count": null,
      "outputs": [
        {
          "output_type": "stream",
          "text": [
            "50%\n"
          ],
          "name": "stdout"
        }
      ]
    },
    {
      "cell_type": "code",
      "metadata": {
        "id": "vXfmrSAk2hc5",
        "colab": {
          "base_uri": "https://localhost:8080/"
        },
        "outputId": "61914103-1044-4bf4-a52b-fc04febbfd8d"
      },
      "source": [
        "print(format(123456, 'd')) #with no special formatting"
      ],
      "execution_count": null,
      "outputs": [
        {
          "output_type": "stream",
          "text": [
            "123456\n"
          ],
          "name": "stdout"
        }
      ]
    },
    {
      "cell_type": "code",
      "metadata": {
        "id": "Af5cWWaO2pQB",
        "colab": {
          "base_uri": "https://localhost:8080/"
        },
        "outputId": "18f2f22d-7327-4bf6-da37-76d85b5ccb33"
      },
      "source": [
        "print(format(123456, ',d')) #with a comma separator"
      ],
      "execution_count": null,
      "outputs": [
        {
          "output_type": "stream",
          "text": [
            "123,456\n"
          ],
          "name": "stdout"
        }
      ]
    },
    {
      "cell_type": "markdown",
      "metadata": {
        "id": "UeZdh4rnH7yW"
      },
      "source": [
        "# Decision Structures and Boolean Logic"
      ]
    },
    {
      "cell_type": "code",
      "metadata": {
        "colab": {
          "base_uri": "https://localhost:8080/"
        },
        "id": "aR8dpi_JH-Q0",
        "outputId": "99affac5-ba3d-4e18-f32a-1e5d3934d874"
      },
      "source": [
        "x = 1\n",
        "y = 0\n",
        "x>y , y>x"
      ],
      "execution_count": null,
      "outputs": [
        {
          "output_type": "execute_result",
          "data": {
            "text/plain": [
              "(True, False)"
            ]
          },
          "metadata": {
            "tags": []
          },
          "execution_count": 27
        }
      ]
    },
    {
      "cell_type": "markdown",
      "metadata": {
        "id": "Maq8Siv75xEE"
      },
      "source": [
        "##The if Statement"
      ]
    },
    {
      "cell_type": "markdown",
      "metadata": {
        "id": "BJ8LaG4A3h0e"
      },
      "source": [
        "###Using the if Statement\n",
        "Kathryn teaches a science class and her students are required to take three tests. She wants\n",
        "to write a program that her students can use to calculate their average test score. She also\n",
        "wants the program to congratulate the student enthusiastically if the average is greater\n",
        "than 95. Here is the algorithm in pseudocode:<br><br>\n",
        "Get the first test score<br>\n",
        "Get the second test score<br>\n",
        "Get the third test score<br>\n",
        "Calculate the average<br>\n",
        "Display the average<br>\n",
        "If the average is greater than 95:\n",
        ">Congratulate the user\n",
        "\n",
        "\n",
        "\n",
        "\n",
        "\n"
      ]
    },
    {
      "cell_type": "code",
      "metadata": {
        "id": "Wk_PLWnh3YVZ",
        "colab": {
          "base_uri": "https://localhost:8080/"
        },
        "outputId": "8a544dae-58cb-4092-9812-88bcc6609826"
      },
      "source": [
        "# This program gets three test scores and displays\n",
        "# their average. It congratulates the user if the\n",
        "# average is a high score.\n",
        "\n",
        "# The high score variable holds the value that is\n",
        "# considered a high score.\n",
        "high_score = 95\n",
        "\n",
        "# Get the three test scores.\n",
        "test1 = int(input('Enter the score for test 1:'))\n",
        "test2 = int(input('Enter the score for test 2:'))\n",
        "test3 = int(input('Enter the score for test 3:'))\n",
        "\n",
        "# Calculate the average test score.\n",
        "average = (test1 + test2 + test3) / 3\n",
        "\n",
        "# Print the average.\n",
        "print('The average score is', average)\n",
        "\n",
        "# If the average is a high score,\n",
        "# congratulate the user.\n",
        "if average >= high_score:\n",
        "  print('Congratulations!')\n",
        "  print('That is a great average!')\n",
        "\n",
        "#try printing the same sentence with only one print"
      ],
      "execution_count": null,
      "outputs": [
        {
          "output_type": "stream",
          "text": [
            "Enter the score for test 1:93\n",
            "Enter the score for test 2:99\n",
            "Enter the score for test 3:96\n",
            "The average score is 96.0\n",
            "Congratulations!\n",
            "That is a great average!\n"
          ],
          "name": "stdout"
        }
      ]
    },
    {
      "cell_type": "markdown",
      "metadata": {
        "id": "bLHEixY95lq6"
      },
      "source": [
        "##The if-else Statement"
      ]
    },
    {
      "cell_type": "code",
      "metadata": {
        "id": "T_IzOSSe6UTb",
        "colab": {
          "base_uri": "https://localhost:8080/"
        },
        "outputId": "c989c7df-fb2a-4ca8-e5ad-a9efdef890e3"
      },
      "source": [
        "temperature = int(input(\"Enter the temperature: \"))\n",
        "if temperature < 40:\n",
        "  print(\"A little cold, isn't it?\")\n",
        "else:\n",
        "  print(\"Nice weather we're having.\")"
      ],
      "execution_count": null,
      "outputs": [
        {
          "output_type": "stream",
          "text": [
            "Enter the temperature: 40\n",
            "Nice weather we're having.\n"
          ],
          "name": "stdout"
        }
      ]
    },
    {
      "cell_type": "markdown",
      "metadata": {
        "id": "T4kp7WXb56Dw"
      },
      "source": [
        "###Using the if-else Statement\n",
        "Chris owns an auto repair business and has several employees. If any employee works over 40 hours in a week, he pays them 1.5 times their regular hourly pay rate for all hours over 40. He has asked you to design a simple payroll program that calculates an employee’s gross pay, including any overtime wages. You design the following algorithm:<br><br>\n",
        "Get the number of hours worked.<br>\n",
        "Get the hourly pay rate.<br>\n",
        "If the employee worked more than 40 hours:<br>\n",
        ">Calculate and display the gross pay with overtime.<br><br>\n",
        "\n",
        "Else:<br>\n",
        ">Calculate and display the gross pay as usual.<br><br>\n",
        "\n",
        "The base_hours variable is assigned 40, which is the number of hours an employee can work in a week without getting paid overtime. The ot_multiplier variable is assigned 1.5, which is the pay rate multiplier for overtime hours. This means that the\n",
        "employee’s hourly pay rate is multiplied by 1.5 for all overtime hours.\n"
      ]
    },
    {
      "cell_type": "code",
      "metadata": {
        "colab": {
          "base_uri": "https://localhost:8080/"
        },
        "id": "7HithEODJHxm",
        "outputId": "4a418658-9fba-412f-e70d-91b95d4eae4f"
      },
      "source": [
        "# Variables to represent the base hours and\n",
        "# the overtime multiplier.\n",
        "base_hours = 40 # Base hours per week\n",
        "ot_multiplier = 1.5 # Overtime multiplier\n",
        "\n",
        "# Get the hours worked and the hourly pay rate.\n",
        "hours = float(input('Enter the number of hours worked:'))\n",
        "pay_rate = float(input('Enter the hourly pay rate:'))\n",
        "\n",
        "# Calculate and display the gross pay.\n",
        "if hours > base_hours:\n",
        "  # Calculate the gross pay with overtime.\n",
        "  # First, get the number of overtime hours worked.\n",
        "  overtime_hours = hours - base_hours\n",
        "\n",
        "  # Calculate the amount of overtime pay.\n",
        "  overtime_pay = overtime_hours * pay_rate * ot_multiplier\n",
        "\n",
        "  # Calculate the gross pay.\n",
        "  gross_pay = base_hours * pay_rate + overtime_pay\n",
        "else:\n",
        "  # Calculate the gross pay without overtime.\n",
        "  gross_pay = hours * pay_rate\n",
        "\n",
        "# Display the gross pay.\n",
        "print('The gross pay is $', format(gross_pay, ',.2f'), sep='')"
      ],
      "execution_count": null,
      "outputs": [
        {
          "output_type": "stream",
          "text": [
            "Enter the number of hours worked:50\n",
            "Enter the hourly pay rate:20\n",
            "The gross pay is $1,100.00\n"
          ],
          "name": "stdout"
        }
      ]
    },
    {
      "cell_type": "markdown",
      "metadata": {
        "id": "uGLHTbfDKOPa"
      },
      "source": [
        "###Comparing Strings "
      ]
    },
    {
      "cell_type": "code",
      "metadata": {
        "colab": {
          "base_uri": "https://localhost:8080/"
        },
        "id": "QzynfGDhKWqJ",
        "outputId": "47e88c5f-606f-4d93-e7b2-e61c29e951ff"
      },
      "source": [
        "name1 = 'Mary'\n",
        "name2 = 'Mark'\n",
        "if name1 == name2:\n",
        "  print('The names are the same.')\n",
        "else:\n",
        "  print('The names are NOT the same.')"
      ],
      "execution_count": null,
      "outputs": [
        {
          "output_type": "stream",
          "text": [
            "The names are NOT the same.\n"
          ],
          "name": "stdout"
        }
      ]
    },
    {
      "cell_type": "code",
      "metadata": {
        "colab": {
          "base_uri": "https://localhost:8080/"
        },
        "id": "UkB3KmX7Ky5z",
        "outputId": "59f45dc6-d23f-42ce-e812-8e82c0a866fd"
      },
      "source": [
        "month = 'April'\n",
        "if month != 'October':\n",
        "  print('This is the wrong time for Octoberfest!')"
      ],
      "execution_count": null,
      "outputs": [
        {
          "output_type": "stream",
          "text": [
            "This is the wrong time for Octoberfest!\n"
          ],
          "name": "stdout"
        }
      ]
    },
    {
      "cell_type": "code",
      "metadata": {
        "colab": {
          "base_uri": "https://localhost:8080/"
        },
        "id": "Po3LGqIQLUSk",
        "outputId": "2f09437d-3f6a-4cbe-f4e4-8fdc1c7f8ad2"
      },
      "source": [
        "#This program compares two strings.\n",
        "# Get a password from the user.\n",
        "password = input('Enter the password:')\n",
        "\n",
        "# Determine whether the correct password\n",
        "# was entered.\n",
        "if password == 'prospero':\n",
        "  print('Password accepted.')\n",
        "else:\n",
        "  print('Sorry, that is the wrong password.')"
      ],
      "execution_count": null,
      "outputs": [
        {
          "output_type": "stream",
          "text": [
            "Enter the password:prospero\n",
            "Password accepted.\n"
          ],
          "name": "stdout"
        }
      ]
    },
    {
      "cell_type": "markdown",
      "metadata": {
        "id": "k4MtjQoQx8wC"
      },
      "source": [
        "##Nested Decision Structures & the if-elif-else Statement"
      ]
    },
    {
      "cell_type": "markdown",
      "metadata": {
        "id": "1njGaWZi2QXZ"
      },
      "source": [
        "If we follow the flow of execution in the next program, we see that the condition salary >= 30000 is tested.<br>\n",
        "If this condition is false, there is no need to perform further tests; we know that the customer does not qualify for the loan.<br>\n",
        "If the condition is true, however, we need to test the second condition. This is done with a nested decision structure that tests the condition\n",
        "years_on_job >= 2.<br>\n",
        "If this condition is true, then the customer qualifies for the loan.<br>\n",
        "If this condition is false, then the customer does not qualify.<br>"
      ]
    },
    {
      "cell_type": "code",
      "metadata": {
        "colab": {
          "base_uri": "https://localhost:8080/"
        },
        "id": "czBg09rtyDpe",
        "outputId": "de01f75a-da76-4be4-9cfb-97856a0477bd"
      },
      "source": [
        "# This program determines whether a bank customer\n",
        "# qualifies for a loan.\n",
        "\n",
        "min_salary = 30000.0 # The minimum annual salary\n",
        "min_years = 2 # The minimum years on the job\n",
        "\n",
        "# Get the customer's annual salary.\n",
        "salary = float(input('Enter your annual salary:'))\n",
        "\n",
        "# Get the number of years on the current job.\n",
        "years_on_job = int(input('Enter the number of ' + 'years employed:'))\n",
        "\n",
        "# Determine whether the customer qualifies.\n",
        "if salary >= min_salary:\n",
        "  if years_on_job >= min_years:\n",
        "    print('You qualify for the loan.')\n",
        "  else:\n",
        "    print('You must have been employed', \\\n",
        "    'for at least', min_years, \\\n",
        "    'years to qualify.')\n",
        "else:\n",
        "  print('You must earn at least $', \\\n",
        "    format(min_salary, ',.2f'), \\\n",
        "    ' per year to qualify.', sep='')"
      ],
      "execution_count": null,
      "outputs": [
        {
          "output_type": "stream",
          "text": [
            "Enter your annual salary:40000\n",
            "Enter the number of years employed:1\n",
            "You must have been employed for at least 2 years to qualify.\n"
          ],
          "name": "stdout"
        }
      ]
    },
    {
      "cell_type": "markdown",
      "metadata": {
        "id": "gE7wvUX630dV"
      },
      "source": [
        "###Multiple Nested Decision Structures"
      ]
    },
    {
      "cell_type": "markdown",
      "metadata": {
        "id": "JR3ERyAZ4I9k"
      },
      "source": [
        "Dr. Suarez teaches a literature class and uses the following 10-point grading scale for all of his exams:<br><br>\n",
        "Test score & Grade:<br>\n",
        "90 and above (A)<br>\n",
        "80–89 (B)<br>\n",
        "70–79 (C)<br>\n",
        "60–69 (D)<br>\n",
        "Below 60 (F)<br><br>\n",
        "He has asked you to write a program that will allow a student to enter a test score and then display the grade for that score. Here is the algorithm that you will use:\n",
        "1. Ask the user to enter a test score.\n",
        "2. Determine the grade in the following manner:<br>\n",
        " - If the score is greater than or equal to 90, then the grade is A.\n",
        " - Else, if the score is greater than or equal to 80, then the grade is B.\n",
        " - Else, if the score is greater than or equal to 70, then the grade is C.\n",
        " - Else, if the score is greater than or equal to 60, then the grade is D.\n",
        " - Else, the grade is F."
      ]
    },
    {
      "cell_type": "code",
      "metadata": {
        "colab": {
          "base_uri": "https://localhost:8080/"
        },
        "id": "13r80fiF1deo",
        "outputId": "f46dd4c9-470b-48c8-8a95-54faae5b0f5f"
      },
      "source": [
        "# This program gets a numeric test score from the\n",
        "# user and displays the corresponding letter grade.\n",
        "\n",
        "# Variables to represent the grade thresholds\n",
        "A_score = 90\n",
        "B_score = 80\n",
        "C_score = 70\n",
        "D_score = 60\n",
        "\n",
        "# Get a test score from the user.\n",
        "score = int(input('Enter your test score:'))\n",
        "\n",
        "# Determine the grade.\n",
        "if score >= A_score:\n",
        "  print('Your grade is A.')\n",
        "else:\n",
        "  if score >= B_score:\n",
        "    print('Your grade is B.')\n",
        "  else:\n",
        "    if score >= C_score:\n",
        "      print('Your grade is C.')\n",
        "    else:\n",
        "      if score >= D_score:\n",
        "        print('Your grade is D.')\n",
        "      else:\n",
        "          print('Your grade is F.')\n",
        "\n",
        "\n"
      ],
      "execution_count": null,
      "outputs": [
        {
          "output_type": "stream",
          "text": [
            "Enter your test score:85\n",
            "Your grade is B.\n",
            "Your grade is C.\n",
            "Your grade is D.\n"
          ],
          "name": "stdout"
        }
      ]
    },
    {
      "cell_type": "markdown",
      "metadata": {
        "id": "IU2jNB-b7Lnn"
      },
      "source": [
        "##Logical Operators"
      ]
    },
    {
      "cell_type": "markdown",
      "metadata": {
        "id": "F4q4594k8ssP"
      },
      "source": [
        "The purpose of the following decision structure is to determine that a person’s salary is at least $30,000 and that he or she has been at their current job for at least two years."
      ]
    },
    {
      "cell_type": "code",
      "metadata": {
        "colab": {
          "base_uri": "https://localhost:8080/"
        },
        "id": "6_ermZHK71i7",
        "outputId": "414d5832-61c9-419b-b1ba-366a87f7ae4d"
      },
      "source": [
        "# This program determines whether a bank customer\n",
        "# qualifies for a loan.\n",
        "\n",
        "min_salary = 30000.0 # The minimum annual salary\n",
        "min_years = 2 # The minimum years on the job\n",
        "\n",
        "# Get the customer's annual salary.\n",
        "salary = float(input('Enter your annual salary:'))\n",
        "\n",
        "# Get the number of years on the current job.\n",
        "years_on_job = int(input('Enter the number of' + \n",
        "                         ' years employed:'))\n",
        "\n",
        "# Determine whether the customer qualifies.\n",
        "if salary >= min_salary and years_on_job >= min_years:\n",
        "  print('You qualify for the loan.')\n",
        "else:\n",
        "  print('You do not qualify for this loan.')"
      ],
      "execution_count": null,
      "outputs": [
        {
          "output_type": "stream",
          "text": [
            "Enter your annual salary:5483\n",
            "Enter the number of years employed:3\n",
            "You do not qualify for this loan.\n"
          ],
          "name": "stdout"
        }
      ]
    },
    {
      "cell_type": "markdown",
      "metadata": {
        "id": "oCMlqRFI85HN"
      },
      "source": [
        "Suppose the bank is losing customers to a competing bank that isn’t as strict about whom it loans money to. In response, the bank decides to change its loan requirements. Now, customers have to meet only one of the previous conditions, not both."
      ]
    },
    {
      "cell_type": "code",
      "metadata": {
        "colab": {
          "base_uri": "https://localhost:8080/"
        },
        "id": "E5ACu5JZ62OP",
        "outputId": "42e26e06-845a-40c8-bf08-5f3516e06bdb"
      },
      "source": [
        "# This program determines whether a bank customer\n",
        "# qualifies for a loan.\n",
        "\n",
        "min_salary = 30000.0 # The minimum annual salary\n",
        "min_years = 2 # The minimum years on the job\n",
        "\n",
        "# Get the customer's annual salary.\n",
        "salary = float(input('Enter your annual salary:'))\n",
        "\n",
        "# Get the number of years on the current job.\n",
        "years_on_job = int(input('Enter the number of' +\n",
        "                         'years employed:'))\n",
        "\n",
        "# Determine whether the customer qualifies.\n",
        "if salary >= min_salary or years_on_job >= min_years:\n",
        "  print('You qualify for the loan.')\n",
        "else:\n",
        "  print('You do not qualify for this loan.')"
      ],
      "execution_count": null,
      "outputs": [
        {
          "output_type": "stream",
          "text": [
            "Enter your annual salary:35000\n",
            "Enter the number ofyears employed:1\n",
            "You qualify for the loan.\n"
          ],
          "name": "stdout"
        }
      ]
    },
    {
      "cell_type": "markdown",
      "metadata": {
        "id": "x0OLDQSP7juL"
      },
      "source": [
        "##Boolean Variables"
      ]
    },
    {
      "cell_type": "markdown",
      "metadata": {
        "id": "gSyXQ7rZ90vO"
      },
      "source": [
        "Suppose a salesperson has a quota of $50,000. Assuming sales references\n",
        "the amount that the salesperson has sold, the following code determines whether the quota has been met:"
      ]
    },
    {
      "cell_type": "code",
      "metadata": {
        "colab": {
          "base_uri": "https://localhost:8080/"
        },
        "id": "1gFzBCkE9rTU",
        "outputId": "961aad8a-7058-419f-9bcd-d40df8fed787"
      },
      "source": [
        "sales = float(input(\"Enter Your sales: \"))\n",
        "\n",
        "if sales >= 50000.0:\n",
        "  sales_quota_met = True\n",
        "else:\n",
        "  sales_quota_met = False\n",
        "\n",
        "#the sales_quota_met variable can be used as a flag to indicate\n",
        "#whether the sales quota has been met.\n",
        "if sales_quota_met: # if False: \n",
        "  print('You have met your sales quota!')\n",
        "  \n",
        "#This code is equivalent to the following:\n",
        "#if sales_quota_met == True:\n",
        "  #print('You have met your sales quota!')"
      ],
      "execution_count": null,
      "outputs": [
        {
          "output_type": "stream",
          "text": [
            "Enter Your sales: 45000\n"
          ],
          "name": "stdout"
        }
      ]
    },
    {
      "cell_type": "code",
      "metadata": {
        "id": "J9KHGVs3c08j"
      },
      "source": [
        ""
      ],
      "execution_count": null,
      "outputs": []
    }
  ]
}