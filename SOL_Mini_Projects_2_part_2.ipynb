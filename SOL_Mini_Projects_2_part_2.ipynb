{
  "nbformat": 4,
  "nbformat_minor": 0,
  "metadata": {
    "colab": {
      "name": "SOL Mini_Projects_2/ part 2.ipynb",
      "provenance": [],
      "include_colab_link": true
    },
    "kernelspec": {
      "name": "python3",
      "display_name": "Python 3"
    }
  },
  "cells": [
    {
      "cell_type": "markdown",
      "metadata": {
        "id": "view-in-github",
        "colab_type": "text"
      },
      "source": [
        "<a href=\"https://colab.research.google.com/github/nouran551/Machine-Learning-Training/blob/main/SOL_Mini_Projects_2_part_2.ipynb\" target=\"_parent\"><img src=\"https://colab.research.google.com/assets/colab-badge.svg\" alt=\"Open In Colab\"/></a>"
      ]
    },
    {
      "cell_type": "markdown",
      "metadata": {
        "id": "c2sSEq3uSurn"
      },
      "source": [
        "# Files and Exceptions"
      ]
    },
    {
      "cell_type": "code",
      "metadata": {
        "id": "VppOUgyU_Auv"
      },
      "source": [
        "from google.colab import drive\n",
        "drive.mount('/content/drive')"
      ],
      "execution_count": null,
      "outputs": []
    },
    {
      "cell_type": "markdown",
      "metadata": {
        "id": "qw2XyRs-TWIF"
      },
      "source": [
        "**8. Sum of Numbers** <br>\n",
        "Assume that a file containing a series of integers is named numbers.txt and exists on the Drive. Write a program that reads all of the numbers stored in the file and calculates their total.\n",
        "\n",
        "Find file here: <br>\n",
        "https://drive.google.com/file/d/1GaOURA7jp0NLvfaOfl4cCClKK_pv3q0r/view?usp=sharing"
      ]
    },
    {
      "cell_type": "code",
      "metadata": {
        "id": "92EStR9KSu8N",
        "colab": {
          "base_uri": "https://localhost:8080/"
        },
        "outputId": "b62bfab4-4918-4184-fbda-a0107cf01e4b"
      },
      "source": [
        "file = open('/content/numbers.txt','r')\n",
        "total = 0.0\n",
        "for line in file :\n",
        "  num = float(line)\n",
        "  total += num\n",
        "print ('Total=',total)\n",
        "file.close()"
      ],
      "execution_count": null,
      "outputs": [
        {
          "output_type": "stream",
          "text": [
            "Total= 5931486514.0\n"
          ],
          "name": "stdout"
        }
      ]
    },
    {
      "cell_type": "markdown",
      "metadata": {
        "id": "gW0mWcdDVgK4"
      },
      "source": [
        "**9. Average of Numbers** <br>\n",
        "Assume that a file containing a series of integers is named numbers.txt and exists on the Drive. Write a program that calculates the average of all the numbers stored in\n",
        "the file"
      ]
    },
    {
      "cell_type": "code",
      "metadata": {
        "id": "3-DZx-vnSvCe",
        "colab": {
          "base_uri": "https://localhost:8080/"
        },
        "outputId": "53f7b1eb-8777-48b6-9c74-9e8580f26f26"
      },
      "source": [
        "file = open('/content/numbers.txt','r')\n",
        "total = 0.0\n",
        "count = 0\n",
        "for line in file :\n",
        "  num = float(line)\n",
        "  count += 1\n",
        "  total += num\n",
        "avg=total/count\n",
        "print ('Average=',avg)\n",
        "file.close()"
      ],
      "execution_count": null,
      "outputs": [
        {
          "output_type": "stream",
          "text": [
            "Average= 102267008.86206897\n"
          ],
          "name": "stdout"
        }
      ]
    },
    {
      "cell_type": "markdown",
      "metadata": {
        "id": "vjchCYETVwPx"
      },
      "source": [
        "**10. Random Number File Writer**<br>\n",
        "Write a program that writes a series of random numbers to a file. Each random number should be in the range of 1 \n",
        "through 500. The application should let the user specify how\n",
        "many random numbers the file will hold.\n"
      ]
    },
    {
      "cell_type": "code",
      "metadata": {
        "id": "DCyba_BZVxLF",
        "colab": {
          "base_uri": "https://localhost:8080/"
        },
        "outputId": "2343d87c-de9f-4605-bb23-11fc8f62898e"
      },
      "source": [
        "import random\n",
        "num = int(input('how many numbers do you want? '))\n",
        "file = open('random.txt','w')\n",
        "for line in range(1,num+1) :\n",
        "  ran = random.randint(1,500)\n",
        "  file.write(str(ran)+'\\n')\n",
        "file.close()"
      ],
      "execution_count": null,
      "outputs": [
        {
          "output_type": "stream",
          "text": [
            "how many numbers do you want? 13\n"
          ],
          "name": "stdout"
        }
      ]
    },
    {
      "cell_type": "markdown",
      "metadata": {
        "id": "p75ZKqbXWMdY"
      },
      "source": [
        "**11.  Exception Handing** <br>\n",
        "Modify the program that you wrote for Exercise 9 so it handles the following exceptions: <br>\n",
        "* It should handle any IOError exceptions that are raised when the file is opened and data\n",
        "is read from it. <br>\n",
        "* It should handle any ValueError exceptions that are raised when the items that are read from the file are converted to a number."
      ]
    },
    {
      "cell_type": "code",
      "metadata": {
        "id": "22SOHQbrVxRE",
        "colab": {
          "base_uri": "https://localhost:8080/"
        },
        "outputId": "0ab32eca-2370-438c-d07f-c57a83320d60"
      },
      "source": [
        "try:\n",
        "  file = open('/content/numbers.txt','r')\n",
        "  total = 0.0\n",
        "  count = 0\n",
        "  for line in file :\n",
        "    num = float(line)\n",
        "    count += 1\n",
        "    total += num\n",
        "  avg=total/count\n",
        "  print ('Average=',avg)\n",
        "  file.close()\n",
        "except IOError :\n",
        "  print(\"error trying to read the file\")\n",
        "except ValueError :\n",
        "  print(\"non-numeric data found\")"
      ],
      "execution_count": null,
      "outputs": [
        {
          "output_type": "stream",
          "text": [
            "Average= 102267008.86206897\n"
          ],
          "name": "stdout"
        }
      ]
    }
  ]
}